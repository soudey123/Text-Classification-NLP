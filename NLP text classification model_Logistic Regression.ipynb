{
 "cells": [
  {
   "cell_type": "markdown",
   "metadata": {},
   "source": [
    "### IMPORTING PACKAGES"
   ]
  },
  {
   "cell_type": "code",
   "execution_count": 34,
   "metadata": {},
   "outputs": [
    {
     "name": "stderr",
     "output_type": "stream",
     "text": [
      "[nltk_data] Downloading package punkt to\n",
      "[nltk_data]     /Users/soumavadey/nltk_data...\n",
      "[nltk_data]   Package punkt is already up-to-date!\n",
      "[nltk_data] Downloading package averaged_perceptron_tagger to\n",
      "[nltk_data]     /Users/soumavadey/nltk_data...\n",
      "[nltk_data]   Package averaged_perceptron_tagger is already up-to-\n",
      "[nltk_data]       date!\n",
      "[nltk_data] Downloading package wordnet to\n",
      "[nltk_data]     /Users/soumavadey/nltk_data...\n",
      "[nltk_data]   Package wordnet is already up-to-date!\n",
      "[nltk_data] Downloading package stopwords to\n",
      "[nltk_data]     /Users/soumavadey/nltk_data...\n",
      "[nltk_data]   Package stopwords is already up-to-date!\n"
     ]
    }
   ],
   "source": [
    "import pandas as pd\n",
    "import numpy as np\n",
    "\n",
    "import seaborn as sns\n",
    "import matplotlib.pyplot as plt\n",
    "\n",
    "#for text pre-processing\n",
    "import re, string\n",
    "import nltk\n",
    "from nltk.tokenize import word_tokenize\n",
    "from nltk.corpus import stopwords\n",
    "#from nltk.tokenize import word_tokenize\n",
    "from nltk.stem import SnowballStemmer\n",
    "from nltk.corpus import wordnet\n",
    "from nltk.stem import WordNetLemmatizer\n",
    "\n",
    "nltk.download('punkt')\n",
    "nltk.download('averaged_perceptron_tagger')\n",
    "nltk.download('wordnet')\n",
    "nltk.download('stopwords')\n",
    "\n",
    "#for model-building\n",
    "from sklearn.model_selection import train_test_split\n",
    "from sklearn.linear_model import LogisticRegression\n",
    "from sklearn.linear_model import SGDClassifier\n",
    "from sklearn.naive_bayes import MultinomialNB\n",
    "from sklearn.metrics import classification_report, f1_score, accuracy_score, confusion_matrix\n",
    "from sklearn.metrics import roc_curve, auc, roc_auc_score\n",
    "\n",
    "# bag of words\n",
    "from sklearn.feature_extraction.text import TfidfVectorizer\n",
    "from sklearn.feature_extraction.text import CountVectorizer\n",
    "\n",
    "#for word embedding\n",
    "import gensim\n",
    "from gensim.models import Word2Vec #Word2Vec is mostly used for huge datasets"
   ]
  },
  {
   "cell_type": "markdown",
   "metadata": {},
   "source": [
    "## Loading Data"
   ]
  },
  {
   "cell_type": "code",
   "execution_count": 36,
   "metadata": {},
   "outputs": [
    {
     "name": "stdout",
     "output_type": "stream",
     "text": [
      "(7613, 5)\n"
     ]
    },
    {
     "data": {
      "text/html": [
       "<div>\n",
       "<style scoped>\n",
       "    .dataframe tbody tr th:only-of-type {\n",
       "        vertical-align: middle;\n",
       "    }\n",
       "\n",
       "    .dataframe tbody tr th {\n",
       "        vertical-align: top;\n",
       "    }\n",
       "\n",
       "    .dataframe thead th {\n",
       "        text-align: right;\n",
       "    }\n",
       "</style>\n",
       "<table border=\"1\" class=\"dataframe\">\n",
       "  <thead>\n",
       "    <tr style=\"text-align: right;\">\n",
       "      <th></th>\n",
       "      <th>id</th>\n",
       "      <th>keyword</th>\n",
       "      <th>location</th>\n",
       "      <th>text</th>\n",
       "      <th>target</th>\n",
       "    </tr>\n",
       "  </thead>\n",
       "  <tbody>\n",
       "    <tr>\n",
       "      <th>15</th>\n",
       "      <td>23</td>\n",
       "      <td>NaN</td>\n",
       "      <td>NaN</td>\n",
       "      <td>What's up man?</td>\n",
       "      <td>0</td>\n",
       "    </tr>\n",
       "    <tr>\n",
       "      <th>16</th>\n",
       "      <td>24</td>\n",
       "      <td>NaN</td>\n",
       "      <td>NaN</td>\n",
       "      <td>I love fruits</td>\n",
       "      <td>0</td>\n",
       "    </tr>\n",
       "    <tr>\n",
       "      <th>17</th>\n",
       "      <td>25</td>\n",
       "      <td>NaN</td>\n",
       "      <td>NaN</td>\n",
       "      <td>Summer is lovely</td>\n",
       "      <td>0</td>\n",
       "    </tr>\n",
       "    <tr>\n",
       "      <th>18</th>\n",
       "      <td>26</td>\n",
       "      <td>NaN</td>\n",
       "      <td>NaN</td>\n",
       "      <td>My car is so fast</td>\n",
       "      <td>0</td>\n",
       "    </tr>\n",
       "    <tr>\n",
       "      <th>19</th>\n",
       "      <td>28</td>\n",
       "      <td>NaN</td>\n",
       "      <td>NaN</td>\n",
       "      <td>What a goooooooaaaaaal!!!!!!</td>\n",
       "      <td>0</td>\n",
       "    </tr>\n",
       "    <tr>\n",
       "      <th>...</th>\n",
       "      <td>...</td>\n",
       "      <td>...</td>\n",
       "      <td>...</td>\n",
       "      <td>...</td>\n",
       "      <td>...</td>\n",
       "    </tr>\n",
       "    <tr>\n",
       "      <th>7581</th>\n",
       "      <td>10833</td>\n",
       "      <td>wrecked</td>\n",
       "      <td>Lincoln</td>\n",
       "      <td>@engineshed Great atmosphere at the British Li...</td>\n",
       "      <td>0</td>\n",
       "    </tr>\n",
       "    <tr>\n",
       "      <th>7582</th>\n",
       "      <td>10834</td>\n",
       "      <td>wrecked</td>\n",
       "      <td>NaN</td>\n",
       "      <td>Cramer: Iger's 3 words that wrecked Disney's s...</td>\n",
       "      <td>0</td>\n",
       "    </tr>\n",
       "    <tr>\n",
       "      <th>7584</th>\n",
       "      <td>10837</td>\n",
       "      <td>NaN</td>\n",
       "      <td>NaN</td>\n",
       "      <td>These boxes are ready to explode! Exploding Ki...</td>\n",
       "      <td>0</td>\n",
       "    </tr>\n",
       "    <tr>\n",
       "      <th>7587</th>\n",
       "      <td>10841</td>\n",
       "      <td>NaN</td>\n",
       "      <td>NaN</td>\n",
       "      <td>Sirens everywhere!</td>\n",
       "      <td>0</td>\n",
       "    </tr>\n",
       "    <tr>\n",
       "      <th>7593</th>\n",
       "      <td>10848</td>\n",
       "      <td>NaN</td>\n",
       "      <td>NaN</td>\n",
       "      <td>I just heard a really loud bang and everyone i...</td>\n",
       "      <td>0</td>\n",
       "    </tr>\n",
       "  </tbody>\n",
       "</table>\n",
       "<p>4342 rows × 5 columns</p>\n",
       "</div>"
      ],
      "text/plain": [
       "         id  keyword location  \\\n",
       "15       23      NaN      NaN   \n",
       "16       24      NaN      NaN   \n",
       "17       25      NaN      NaN   \n",
       "18       26      NaN      NaN   \n",
       "19       28      NaN      NaN   \n",
       "...     ...      ...      ...   \n",
       "7581  10833  wrecked  Lincoln   \n",
       "7582  10834  wrecked      NaN   \n",
       "7584  10837      NaN      NaN   \n",
       "7587  10841      NaN      NaN   \n",
       "7593  10848      NaN      NaN   \n",
       "\n",
       "                                                   text  target  \n",
       "15                                       What's up man?       0  \n",
       "16                                        I love fruits       0  \n",
       "17                                     Summer is lovely       0  \n",
       "18                                    My car is so fast       0  \n",
       "19                         What a goooooooaaaaaal!!!!!!       0  \n",
       "...                                                 ...     ...  \n",
       "7581  @engineshed Great atmosphere at the British Li...       0  \n",
       "7582  Cramer: Iger's 3 words that wrecked Disney's s...       0  \n",
       "7584  These boxes are ready to explode! Exploding Ki...       0  \n",
       "7587                                 Sirens everywhere!       0  \n",
       "7593  I just heard a really loud bang and everyone i...       0  \n",
       "\n",
       "[4342 rows x 5 columns]"
      ]
     },
     "execution_count": 36,
     "metadata": {},
     "output_type": "execute_result"
    }
   ],
   "source": [
    "#you can download the data from https://www.kaggle.com/c/nlp-getting-started/data\n",
    "import os\n",
    "os.getcwd()\n",
    "df_train=pd.read_csv('input/train.csv')\n",
    "print(df_train.shape)\n",
    "df_train[df_train['target'] == 0]    #target = 0 Non-disaster tweets\n",
    "#df_train[df_train['target'] == 1]     #target = 1 Disaster tweets"
   ]
  },
  {
   "cell_type": "markdown",
   "metadata": {},
   "source": [
    "## EDA"
   ]
  },
  {
   "cell_type": "code",
   "execution_count": 37,
   "metadata": {},
   "outputs": [
    {
     "name": "stdout",
     "output_type": "stream",
     "text": [
      "0    4342\n",
      "1    3271\n",
      "Name: target, dtype: int64\n"
     ]
    },
    {
     "name": "stderr",
     "output_type": "stream",
     "text": [
      "/opt/anaconda3/lib/python3.7/site-packages/seaborn/_decorators.py:43: FutureWarning: Pass the following variables as keyword args: x, y. From version 0.12, the only valid positional argument will be `data`, and passing other arguments without an explicit keyword will result in an error or misinterpretation.\n",
      "  FutureWarning\n"
     ]
    },
    {
     "data": {
      "text/plain": [
       "<AxesSubplot:ylabel='target'>"
      ]
     },
     "execution_count": 37,
     "metadata": {},
     "output_type": "execute_result"
    },
    {
     "data": {
      "image/png": "[encoded data removed]",
      "text/plain": [
       "<Figure size 432x288 with 1 Axes>"
      ]
     },
     "metadata": {
      "needs_background": "light"
     },
     "output_type": "display_data"
    }
   ],
   "source": [
    "# CLASS DISTRIBUTION\n",
    "#if dataset is balanced or not\n",
    "x=df_train['target'].value_counts()\n",
    "print(x)\n",
    "sns.barplot(x.index,x)"
   ]
  },
  {
   "cell_type": "code",
   "execution_count": 38,
   "metadata": {},
   "outputs": [
    {
     "data": {
      "text/plain": [
       "id             0\n",
       "keyword       61\n",
       "location    2533\n",
       "text           0\n",
       "target         0\n",
       "dtype: int64"
      ]
     },
     "execution_count": 38,
     "metadata": {},
     "output_type": "execute_result"
    }
   ],
   "source": [
    "#Missing values\n",
    "df_train.isna().sum()"
   ]
  },
  {
   "cell_type": "code",
   "execution_count": 39,
   "metadata": {},
   "outputs": [
    {
     "name": "stdout",
     "output_type": "stream",
     "text": [
      "15.167532864567411\n",
      "14.704744357438969\n",
      "108.11342097217977\n",
      "95.70681713496084\n",
      "14.664934270865178\n",
      "14.09649930907416\n"
     ]
    }
   ],
   "source": [
    "#1. WORD-COUNT\n",
    "df_train['word_count'] = df_train['text'].apply(lambda x: len(str(x).split()))\n",
    "print(df_train[df_train['target']==1]['word_count'].mean()) #Disaster tweets\n",
    "print(df_train[df_train['target']==0]['word_count'].mean()) #Non-Disaster tweets\n",
    "#Disaster tweets are more wordy than the non-disaster tweets\n",
    "df_train[df_train['target'] == 0]['word_count'].max()\n",
    "\n",
    "#2. CHARACTER-COUNT\n",
    "df_train['char_count'] = df_train['text'].apply(lambda x: len(str(x)))\n",
    "print(df_train[df_train['target']==1]['char_count'].mean()) #Disaster tweets\n",
    "print(df_train[df_train['target']==0]['char_count'].mean()) #Non-Disaster tweets\n",
    "#Disaster tweets are longer than the non-disaster tweets\n",
    "\n",
    "#3. UNIQUE WORD-COUNT\n",
    "df_train['unique_word_count'] = df_train['text'].apply(lambda x: len(set(str(x).split())))\n",
    "print(df_train[df_train['target']==1]['unique_word_count'].mean()) #Disaster tweets\n",
    "print(df_train[df_train['target']==0]['unique_word_count'].mean()) #Non-Disaster tweets"
   ]
  },
  {
   "cell_type": "code",
   "execution_count": 40,
   "metadata": {},
   "outputs": [
    {
     "data": {
      "text/html": [
       "<div>\n",
       "<style scoped>\n",
       "    .dataframe tbody tr th:only-of-type {\n",
       "        vertical-align: middle;\n",
       "    }\n",
       "\n",
       "    .dataframe tbody tr th {\n",
       "        vertical-align: top;\n",
       "    }\n",
       "\n",
       "    .dataframe thead th {\n",
       "        text-align: right;\n",
       "    }\n",
       "</style>\n",
       "<table border=\"1\" class=\"dataframe\">\n",
       "  <thead>\n",
       "    <tr style=\"text-align: right;\">\n",
       "      <th></th>\n",
       "      <th>id</th>\n",
       "      <th>keyword</th>\n",
       "      <th>location</th>\n",
       "      <th>text</th>\n",
       "      <th>target</th>\n",
       "      <th>word_count</th>\n",
       "      <th>char_count</th>\n",
       "      <th>unique_word_count</th>\n",
       "    </tr>\n",
       "  </thead>\n",
       "  <tbody>\n",
       "    <tr>\n",
       "      <th>0</th>\n",
       "      <td>1</td>\n",
       "      <td>NaN</td>\n",
       "      <td>NaN</td>\n",
       "      <td>Our Deeds are the Reason of this #earthquake M...</td>\n",
       "      <td>1</td>\n",
       "      <td>13</td>\n",
       "      <td>69</td>\n",
       "      <td>13</td>\n",
       "    </tr>\n",
       "    <tr>\n",
       "      <th>1</th>\n",
       "      <td>4</td>\n",
       "      <td>NaN</td>\n",
       "      <td>NaN</td>\n",
       "      <td>Forest fire near La Ronge Sask. Canada</td>\n",
       "      <td>1</td>\n",
       "      <td>7</td>\n",
       "      <td>38</td>\n",
       "      <td>7</td>\n",
       "    </tr>\n",
       "    <tr>\n",
       "      <th>2</th>\n",
       "      <td>5</td>\n",
       "      <td>NaN</td>\n",
       "      <td>NaN</td>\n",
       "      <td>All residents asked to 'shelter in place' are ...</td>\n",
       "      <td>1</td>\n",
       "      <td>22</td>\n",
       "      <td>133</td>\n",
       "      <td>20</td>\n",
       "    </tr>\n",
       "    <tr>\n",
       "      <th>3</th>\n",
       "      <td>6</td>\n",
       "      <td>NaN</td>\n",
       "      <td>NaN</td>\n",
       "      <td>13,000 people receive #wildfires evacuation or...</td>\n",
       "      <td>1</td>\n",
       "      <td>8</td>\n",
       "      <td>65</td>\n",
       "      <td>8</td>\n",
       "    </tr>\n",
       "    <tr>\n",
       "      <th>4</th>\n",
       "      <td>7</td>\n",
       "      <td>NaN</td>\n",
       "      <td>NaN</td>\n",
       "      <td>Just got sent this photo from Ruby #Alaska as ...</td>\n",
       "      <td>1</td>\n",
       "      <td>16</td>\n",
       "      <td>88</td>\n",
       "      <td>15</td>\n",
       "    </tr>\n",
       "  </tbody>\n",
       "</table>\n",
       "</div>"
      ],
      "text/plain": [
       "   id keyword location                                               text  \\\n",
       "0   1     NaN      NaN  Our Deeds are the Reason of this #earthquake M...   \n",
       "1   4     NaN      NaN             Forest fire near La Ronge Sask. Canada   \n",
       "2   5     NaN      NaN  All residents asked to 'shelter in place' are ...   \n",
       "3   6     NaN      NaN  13,000 people receive #wildfires evacuation or...   \n",
       "4   7     NaN      NaN  Just got sent this photo from Ruby #Alaska as ...   \n",
       "\n",
       "   target  word_count  char_count  unique_word_count  \n",
       "0       1          13          69                 13  \n",
       "1       1           7          38                  7  \n",
       "2       1          22         133                 20  \n",
       "3       1           8          65                  8  \n",
       "4       1          16          88                 15  "
      ]
     },
     "execution_count": 40,
     "metadata": {},
     "output_type": "execute_result"
    }
   ],
   "source": [
    "df_train.head()"
   ]
  },
  {
   "cell_type": "code",
   "execution_count": 41,
   "metadata": {},
   "outputs": [
    {
     "data": {
      "image/png": "[encoded data removed]",
      "text/plain": [
       "<Figure size 720x288 with 2 Axes>"
      ]
     },
     "metadata": {
      "needs_background": "light"
     },
     "output_type": "display_data"
    }
   ],
   "source": [
    "#Plotting word-count per tweet\n",
    "fig,(ax1,ax2)=plt.subplots(1,2,figsize=(10,4))\n",
    "train_words=df_train[df_train['target']==1]['word_count']\n",
    "ax1.hist(train_words,color='red')\n",
    "ax1.set_title('Disaster tweets')\n",
    "train_words=df_train[df_train['target']==0]['word_count']\n",
    "ax2.hist(train_words,color='green')\n",
    "ax2.set_title('Non-disaster tweets')\n",
    "fig.suptitle('Words per tweet')\n",
    "plt.show()"
   ]
  },
  {
   "cell_type": "markdown",
   "metadata": {},
   "source": [
    "## PRE-PROCESSING"
   ]
  },
  {
   "cell_type": "code",
   "execution_count": 42,
   "metadata": {},
   "outputs": [
    {
     "name": "stdout",
     "output_type": "stream",
     "text": [
      "this is a message to be cleaned for testing it may involve some things like adjacent spaces and tabs\n"
     ]
    }
   ],
   "source": [
    "#1. Common text preprocessing\n",
    "text = \"   This is a message to be cleaned for testing. It may involve some things like: <br>, ?, :, ''  adjacent spaces and tabs     .  \"\n",
    "\n",
    "#convert to lowercase and remove punctuations and characters and then strip\n",
    "def preprocess(text):\n",
    "    text = text.lower() #lowercase text\n",
    "    text=text.strip()  #get rid of leading/trailing whitespace \n",
    "    text=re.compile('<.*?>').sub('', text) #Remove HTML tags/markups\n",
    "    text = re.compile('[%s]' % re.escape(string.punctuation)).sub(' ', text)  #Replace punctuation with space. Careful since punctuation can sometime be useful\n",
    "    text = re.sub('\\s+', ' ', text)  #Remove extra space and tabs\n",
    "    text = re.sub(r'\\[[0-9]*\\]',' ',text) #[0-9] matches any digit (0 to 10000...)\n",
    "    text=re.sub(r'[^\\w\\s]', '', str(text).lower().strip())\n",
    "    text = re.sub(r'\\d',' ',text) #matches any digit from 0 to 100000..., \\D matches non-digits\n",
    "    text = re.sub(r'\\s+',' ',text) #\\s matches any whitespace, \\s+ matches multiple whitespace, \\S matches non-whitespace \n",
    "    \n",
    "    return text\n",
    "\n",
    "text=preprocess(text)\n",
    "print(text)  #text is a string"
   ]
  },
  {
   "cell_type": "code",
   "execution_count": 43,
   "metadata": {},
   "outputs": [
    {
     "name": "stdout",
     "output_type": "stream",
     "text": [
      "message cleaned testing may involve things like adjacent spaces tabs\n"
     ]
    }
   ],
   "source": [
    "#3. LEXICON-BASED TEXT PROCESSING EXAMPLES\n",
    " \n",
    "#1. STOPWORD REMOVAL \n",
    "#example “a”, “the”, “is”, “are”\n",
    "\n",
    "def stopword(string):\n",
    "    a= [i for i in string.split() if i not in stopwords.words('english')]\n",
    "    return ' '.join(a)\n",
    "\n",
    "text=stopword(text)\n",
    "print(text)"
   ]
  },
  {
   "cell_type": "code",
   "execution_count": 44,
   "metadata": {},
   "outputs": [
    {
     "name": "stdout",
     "output_type": "stream",
     "text": [
      "messag clean test may involv thing like adjac space tab\n"
     ]
    }
   ],
   "source": [
    "#2. STEMMING\n",
    "\n",
    "# Initialize the stemmer\n",
    "snow = SnowballStemmer('english')\n",
    "def stemming(string):\n",
    "    a=[snow.stem(i) for i in word_tokenize(string) ]\n",
    "    return \" \".join(a)\n",
    "text=stemming(text)\n",
    "print(text)\n"
   ]
  },
  {
   "cell_type": "code",
   "execution_count": 45,
   "metadata": {},
   "outputs": [
    {
     "name": "stdout",
     "output_type": "stream",
     "text": [
      "messag clean test may involv thing like adjac space tab\n"
     ]
    }
   ],
   "source": [
    "#3. LEMMATIZATION\n",
    "# Initialize the lemmatizer\n",
    "wl = WordNetLemmatizer()\n",
    " \n",
    "# This is a helper function to map NTLK position tags\n",
    "# Full list is available here: https://www.ling.upenn.edu/courses/Fall_2003/ling001/penn_treebank_pos.html\n",
    "def get_wordnet_pos(tag):\n",
    "    if tag.startswith('J'):\n",
    "        return wordnet.ADJ\n",
    "    elif tag.startswith('V'):\n",
    "        return wordnet.VERB\n",
    "    elif tag.startswith('N'):\n",
    "        return wordnet.NOUN\n",
    "    elif tag.startswith('R'):\n",
    "        return wordnet.ADV\n",
    "    else:\n",
    "        return wordnet.NOUN\n",
    "\n",
    "# Tokenize the sentence\n",
    "def lemmatizer(string):\n",
    "    word_pos_tags = nltk.pos_tag(word_tokenize(string)) # Get position tags\n",
    "    a=[wl.lemmatize(tag[0], get_wordnet_pos(tag[1])) for idx, tag in enumerate(word_pos_tags)] # Map the position tag and lemmatize the word/token\n",
    "    return \" \".join(a)\n",
    "\n",
    "text = lemmatizer(text)\n",
    "print(text)"
   ]
  },
  {
   "cell_type": "code",
   "execution_count": 46,
   "metadata": {},
   "outputs": [
    {
     "data": {
      "text/html": [
       "<div>\n",
       "<style scoped>\n",
       "    .dataframe tbody tr th:only-of-type {\n",
       "        vertical-align: middle;\n",
       "    }\n",
       "\n",
       "    .dataframe tbody tr th {\n",
       "        vertical-align: top;\n",
       "    }\n",
       "\n",
       "    .dataframe thead th {\n",
       "        text-align: right;\n",
       "    }\n",
       "</style>\n",
       "<table border=\"1\" class=\"dataframe\">\n",
       "  <thead>\n",
       "    <tr style=\"text-align: right;\">\n",
       "      <th></th>\n",
       "      <th>id</th>\n",
       "      <th>keyword</th>\n",
       "      <th>location</th>\n",
       "      <th>text</th>\n",
       "      <th>target</th>\n",
       "      <th>clean_text</th>\n",
       "    </tr>\n",
       "  </thead>\n",
       "  <tbody>\n",
       "    <tr>\n",
       "      <th>0</th>\n",
       "      <td>1</td>\n",
       "      <td>NaN</td>\n",
       "      <td>NaN</td>\n",
       "      <td>Our Deeds are the Reason of this #earthquake M...</td>\n",
       "      <td>1</td>\n",
       "      <td>deed reason earthquake may allah forgive u</td>\n",
       "    </tr>\n",
       "    <tr>\n",
       "      <th>1</th>\n",
       "      <td>4</td>\n",
       "      <td>NaN</td>\n",
       "      <td>NaN</td>\n",
       "      <td>Forest fire near La Ronge Sask. Canada</td>\n",
       "      <td>1</td>\n",
       "      <td>forest fire near la ronge sask canada</td>\n",
       "    </tr>\n",
       "    <tr>\n",
       "      <th>2</th>\n",
       "      <td>5</td>\n",
       "      <td>NaN</td>\n",
       "      <td>NaN</td>\n",
       "      <td>All residents asked to 'shelter in place' are ...</td>\n",
       "      <td>1</td>\n",
       "      <td>resident ask shelter place notify officer evac...</td>\n",
       "    </tr>\n",
       "    <tr>\n",
       "      <th>3</th>\n",
       "      <td>6</td>\n",
       "      <td>NaN</td>\n",
       "      <td>NaN</td>\n",
       "      <td>13,000 people receive #wildfires evacuation or...</td>\n",
       "      <td>1</td>\n",
       "      <td>people receive wildfire evacuation order calif...</td>\n",
       "    </tr>\n",
       "    <tr>\n",
       "      <th>4</th>\n",
       "      <td>7</td>\n",
       "      <td>NaN</td>\n",
       "      <td>NaN</td>\n",
       "      <td>Just got sent this photo from Ruby #Alaska as ...</td>\n",
       "      <td>1</td>\n",
       "      <td>get sent photo ruby alaska smoke wildfires pou...</td>\n",
       "    </tr>\n",
       "  </tbody>\n",
       "</table>\n",
       "</div>"
      ],
      "text/plain": [
       "   id keyword location                                               text  \\\n",
       "0   1     NaN      NaN  Our Deeds are the Reason of this #earthquake M...   \n",
       "1   4     NaN      NaN             Forest fire near La Ronge Sask. Canada   \n",
       "2   5     NaN      NaN  All residents asked to 'shelter in place' are ...   \n",
       "3   6     NaN      NaN  13,000 people receive #wildfires evacuation or...   \n",
       "4   7     NaN      NaN  Just got sent this photo from Ruby #Alaska as ...   \n",
       "\n",
       "   target                                         clean_text  \n",
       "0       1         deed reason earthquake may allah forgive u  \n",
       "1       1              forest fire near la ronge sask canada  \n",
       "2       1  resident ask shelter place notify officer evac...  \n",
       "3       1  people receive wildfire evacuation order calif...  \n",
       "4       1  get sent photo ruby alaska smoke wildfires pou...  "
      ]
     },
     "execution_count": 46,
     "metadata": {},
     "output_type": "execute_result"
    }
   ],
   "source": [
    "#FINAL PREPROCESSING\n",
    "def finalpreprocess(string):\n",
    "    return lemmatizer(stopword(preprocess(string)))\n",
    "\n",
    "df_train['clean_text'] = df_train['text'].apply(lambda x: finalpreprocess(x))\n",
    "df_train=df_train.drop(columns=['word_count','char_count','unique_word_count'])\n",
    "df_train.head()"
   ]
  },
  {
   "cell_type": "markdown",
   "metadata": {},
   "source": [
    "### TRAIN TEST SPLITTING OF LABELLED DATASET"
   ]
  },
  {
   "cell_type": "code",
   "execution_count": 49,
   "metadata": {},
   "outputs": [
    {
     "name": "stdout",
     "output_type": "stream",
     "text": [
      "  (0, 5803)\t0.19810480024953966\n",
      "  (0, 14307)\t0.2539418631495494\n",
      "  (0, 5684)\t0.14431664138884118\n",
      "  (0, 4811)\t0.25038270059133405\n",
      "  (0, 9649)\t0.20904258689979885\n",
      "  (0, 8467)\t0.13686653009055327\n",
      "  (0, 8633)\t0.16616022463401542\n",
      "  (0, 3250)\t0.26763879906933996\n",
      "  (0, 8985)\t0.5248629314195754\n",
      "  (0, 10930)\t0.48844746491508145\n",
      "  (0, 3528)\t0.29105386568113917\n",
      "  (0, 5441)\t0.2287003625233527\n",
      "  (1, 3017)\t0.49959349388469504\n",
      "  (1, 5605)\t0.47977901623350555\n",
      "  (1, 1543)\t0.7212616976175101\n",
      "  (2, 6600)\t0.37601531392629767\n",
      "  (2, 6217)\t0.45124882881472933\n",
      "  (2, 10937)\t0.45124882881472933\n",
      "  (2, 1360)\t0.38858598869494565\n",
      "  (2, 15104)\t0.31102555612503086\n",
      "  (2, 1693)\t0.45124882881472933\n",
      "  (3, 13515)\t0.34291202212506194\n",
      "  (3, 16537)\t0.3497163022725425\n",
      "  (3, 1485)\t0.2694178326483455\n",
      "  (3, 4634)\t0.2706272356580399\n",
      "  :\t:\n",
      "  (6087, 4517)\t0.257736451853675\n",
      "  (6087, 9340)\t0.2495159201822701\n",
      "  (6087, 1620)\t0.2809538558482358\n",
      "  (6087, 993)\t0.250272583387669\n",
      "  (6087, 3447)\t0.2713830167980525\n",
      "  (6087, 5598)\t0.2615058532061021\n",
      "  (6087, 8667)\t0.2284313644222156\n",
      "  (6088, 7589)\t0.5706474598666472\n",
      "  (6088, 14810)\t0.3723126371549452\n",
      "  (6088, 8502)\t0.45224712890091356\n",
      "  (6088, 5010)\t0.31009889828454495\n",
      "  (6088, 11672)\t0.3811532403115376\n",
      "  (6088, 4931)\t0.26013181131805757\n",
      "  (6088, 2532)\t0.1040286820259636\n",
      "  (6088, 6552)\t0.10624342757275862\n",
      "  (6089, 16720)\t0.4664718790852281\n",
      "  (6089, 11881)\t0.4664718790852281\n",
      "  (6089, 73)\t0.37382511480924513\n",
      "  (6089, 3200)\t0.2565179690237232\n",
      "  (6089, 12098)\t0.2932579072039499\n",
      "  (6089, 4640)\t0.33001376262107557\n",
      "  (6089, 8447)\t0.2663031322851625\n",
      "  (6089, 2532)\t0.08503753752754974\n",
      "  (6089, 6552)\t0.08684796618896976\n",
      "  (6089, 6339)\t0.28046513724424416\n"
     ]
    }
   ],
   "source": [
    "#SPLITTING THE TRAINING DATASET INTO TRAINING AND VALIDATION\n",
    " \n",
    "# Input: \"reviewText\", \"rating\" and \"time\"\n",
    "# Target: \"log_votes\"\n",
    "X_train, X_val, y_train, y_val = train_test_split(df_train[\"clean_text\"],\n",
    "                                                  df_train[\"target\"],\n",
    "                                                  test_size=0.2,\n",
    "                                                  shuffle=True)\n",
    "X_train_tok= [nltk.word_tokenize(i) for i in X_train]  #for word2vec\n",
    "X_val_tok= [nltk.word_tokenize(i) for i in X_val]      #for word2vec\n",
    "\n",
    "#TF-IDF\n",
    "# Convert x_train to vector since model can only run on numbers and not words- Fit and transform\n",
    "tfidf_vectorizer = TfidfVectorizer(use_idf=True)\n",
    "X_train_vectors_tfidf = tfidf_vectorizer.fit_transform(X_train) #tfidf runs on non-tokenized sentences unlike word2vec\n",
    "# Only transform x_test (not fit and transform)\n",
    "X_val_vectors_tfidf = tfidf_vectorizer.transform(X_val) #Don't fit() your TfidfVectorizer to your test data: it will \n",
    "#change the word-indexes & weights to match test data. Rather, fit on the training data, then use the same train-data-\n",
    "#fit model on the test data, to reflect the fact you're analyzing the test data only based on what was learned without \n",
    "#it, and the have compatible\n",
    "print(X_train_vectors_tfidf)\n",
    "\n",
    "#Word2vec\n",
    "# Fit and transform\n",
    "#modelw = MeanEmbeddingVectorizer(w2v)\n",
    "#X_train_vectors_w2v = modelw.transform(X_train_tok)\n",
    "#X_val_vectors_w2v = modelw.transform(X_val_tok)"
   ]
  },
  {
   "cell_type": "markdown",
   "metadata": {},
   "source": [
    "### Building ML models (Text-classification)"
   ]
  },
  {
   "cell_type": "markdown",
   "metadata": {},
   "source": [
    "#### LR (tf-idf)"
   ]
  },
  {
   "cell_type": "code",
   "execution_count": 51,
   "metadata": {},
   "outputs": [
    {
     "name": "stdout",
     "output_type": "stream",
     "text": [
      "              precision    recall  f1-score   support\n",
      "\n",
      "           0       0.80      0.83      0.82       879\n",
      "           1       0.76      0.72      0.74       644\n",
      "\n",
      "    accuracy                           0.78      1523\n",
      "   macro avg       0.78      0.77      0.78      1523\n",
      "weighted avg       0.78      0.78      0.78      1523\n",
      "\n",
      "[[730 149]\n",
      " [181 463]]\n",
      "[[730 149]\n",
      " [181 463]]\n"
     ]
    },
    {
     "data": {
      "text/plain": [
       "<AxesSubplot:>"
      ]
     },
     "execution_count": 51,
     "metadata": {},
     "output_type": "execute_result"
    },
    {
     "data": {
      "image/png": "[encoded data removed]",
      "text/plain": [
       "<Figure size 432x288 with 2 Axes>"
      ]
     },
     "metadata": {
      "needs_background": "light"
     },
     "output_type": "display_data"
    }
   ],
   "source": [
    "#FITTING THE CLASSIFICATION MODEL using Logistic Regression(tf-idf)\n",
    "\n",
    "#lr_tfidf=LogisticRegression(solver = 'liblinear', C=10, penalty = 'l2')\n",
    "#lr_tfidf.fit(X_train_vectors_tfidf, y_train)  #model\n",
    "\n",
    "#Predict y value for test dataset\n",
    "#y_predict = lr_tfidf.predict(X_val_vectors_tfidf)\n",
    "#y_prob = lr_tfidf.predict_proba(X_val_vectors_tfidf)[:,1]\n",
    " \n",
    "\n",
    "print(classification_report(y_val,y_predict))\n",
    "print(confusion_matrix(y_val, y_predict))\n",
    "cf_matrix = confusion_matrix(y_val, y_predict)\n",
    "print(cf_matrix)\n",
    "sns.heatmap(cf_matrix, annot=True, fmt=\"d\")\n",
    " \n",
    "#fpr, tpr, thresholds = roc_curve(y_val, y_prob)\n",
    "#roc_auc = auc(fpr, tpr)\n",
    "#print('AUC:', roc_auc)  "
   ]
  },
  {
   "cell_type": "markdown",
   "metadata": {},
   "source": [
    "### TESTING THE MODEL ON UNLABELLED DATASET"
   ]
  },
  {
   "cell_type": "code",
   "execution_count": 52,
   "metadata": {},
   "outputs": [
    {
     "name": "stdout",
     "output_type": "stream",
     "text": [
      "     id     keyword                        location  \\\n",
      "0     0         NaN                             NaN   \n",
      "1     2         NaN                             NaN   \n",
      "2     3         NaN                             NaN   \n",
      "3     9         NaN                             NaN   \n",
      "4    11         NaN                             NaN   \n",
      "5    12         NaN                             NaN   \n",
      "6    21         NaN                             NaN   \n",
      "7    22         NaN                             NaN   \n",
      "8    27         NaN                             NaN   \n",
      "9    29         NaN                             NaN   \n",
      "10   30         NaN                             NaN   \n",
      "11   35         NaN                             NaN   \n",
      "12   42         NaN                             NaN   \n",
      "13   43         NaN                             NaN   \n",
      "14   45         NaN                             NaN   \n",
      "15   46      ablaze                          London   \n",
      "16   47      ablaze  Niall's place | SAF 12 SQUAD |   \n",
      "17   51      ablaze                         NIGERIA   \n",
      "18   58      ablaze                  Live On Webcam   \n",
      "19   60      ablaze        Los Angeles, Califnordia   \n",
      "20   69      ablaze                  threeonefive.    \n",
      "21   70      ablaze                Washington State   \n",
      "22   72      ablaze              Whoop Ass, Georgia   \n",
      "23   75      ablaze                           India   \n",
      "24   84      ablaze                             NaN   \n",
      "25   87      ablaze            scarborough, ontario   \n",
      "26   88      ablaze                             NaN   \n",
      "27   90      ablaze    121 N La Salle St, Suite 500   \n",
      "28   94      ablaze                       Wandering   \n",
      "29   99    accident                    Homewood, PA   \n",
      "30  101    accident                             NaN   \n",
      "31  103    accident                             NaN   \n",
      "32  106    accident                             USA   \n",
      "33  108    accident                   Massachusetts   \n",
      "34  111    accident                         Bexhill   \n",
      "35  115    accident                     Anime World   \n",
      "36  116    accident                             NaN   \n",
      "37  122    accident              Cowtown, Caliii !!   \n",
      "38  123    accident                             NaN   \n",
      "39  124    accident               All Motorways, UK   \n",
      "40  125    accident              Frankfurt, Germany   \n",
      "41  127    accident                     Gresham, OR   \n",
      "42  140    accident                             NaN   \n",
      "43  142    accident                      Las Vegas    \n",
      "44  147  aftershock                     Midland, Mi   \n",
      "45  148  aftershock        SÌ£o Vicente, SÌ£o Paulo   \n",
      "46  150  aftershock              Vault 101, Fallout   \n",
      "47  152  aftershock                     Switzerland   \n",
      "48  154  aftershock                      California   \n",
      "49  155  aftershock                          Europe   \n",
      "\n",
      "                                                 text  \\\n",
      "0                  Just happened a terrible car crash   \n",
      "1   Heard about #earthquake is different cities, s...   \n",
      "2   there is a forest fire at spot pond, geese are...   \n",
      "3            Apocalypse lighting. #Spokane #wildfires   \n",
      "4       Typhoon Soudelor kills 28 in China and Taiwan   \n",
      "5                  We're shaking...It's an earthquake   \n",
      "6   They'd probably still show more life than Arse...   \n",
      "7                                   Hey! How are you?   \n",
      "8                                    What a nice hat?   \n",
      "9                                           Fuck off!   \n",
      "10                              No I don't like cold!   \n",
      "11                         NOOOOOOOOO! Don't do that!   \n",
      "12                             No don't tell me that!   \n",
      "13                                          What if?!   \n",
      "14                                           Awesome!   \n",
      "15  Birmingham Wholesale Market is ablaze BBC News...   \n",
      "16  @sunkxssedharry will you wear shorts for race ...   \n",
      "17  #PreviouslyOnDoyinTv: Toke MakinwaÛªs marriag...   \n",
      "18  Check these out: http://t.co/rOI2NSmEJJ http:/...   \n",
      "19  PSA: IÛªm splitting my personalities.\\n\\n?? t...   \n",
      "20       beware world ablaze sierra leone &amp; guap.   \n",
      "21  Burning Man Ablaze! by Turban Diva http://t.co...   \n",
      "22  Not a diss song. People will take 1 thing and ...   \n",
      "23  Rape victim dies as she sets herself ablaze: A...   \n",
      "24       SETTING MYSELF ABLAZE http://t.co/6vMe7P5XhC   \n",
      "25  @CTVToronto the bins in front of the field by ...   \n",
      "26  #nowplaying Alfons - Ablaze 2015 on Puls Radio...   \n",
      "27  'Burning Rahm': Let's hope City Hall builds a ...   \n",
      "28  @PhilippaEilhart @DhuBlath hurt but her eyes a...   \n",
      "29  Accident cleared in #PaTurnpike on PATP EB bet...   \n",
      "30  Just got to love burning your self on a damn c...   \n",
      "31                    I hate badging shit in accident   \n",
      "32  #3: Car Recorder ZeroEdgeå¨ Dual-lens Car Came...   \n",
      "33  Coincidence Or #Curse? Still #Unresolved Secre...   \n",
      "34  @Traffic_SouthE @roadpol_east Accident on A27 ...   \n",
      "35  @sakuma_en If you pretend to feel a certain wa...   \n",
      "36  For Legal and Medical Referral Service @1800_I...   \n",
      "37  There's a construction guy working on the Disn...   \n",
      "38  @RobynJilllian @WlSDOMTEETHS I feel like I'm g...   \n",
      "39  On the #M42 northbound between junctions J3 an...   \n",
      "40  @DaveOshry @Soembie So if I say that I met her...   \n",
      "41  ACCIDENT - HIT AND RUN - COLD at 500 BLOCK OF ...   \n",
      "42  @Calum5SOS this happened on accident but I lik...   \n",
      "43  Please donate and spread the word! A training ...   \n",
      "44  Please like and share our new page for our Ind...   \n",
      "45  @bxckylynch foi no ROH Aftershock: Las Vegas p...   \n",
      "46  Schoolboy ÛÒ Aftershock (Original Mix)\\nExcis...   \n",
      "47  320 [IR] ICEMOON [AFTERSHOCK] | http://t.co/TH...   \n",
      "48  'When the aftershock happened (Nepal) we were ...   \n",
      "49  320 [IR] ICEMOON [AFTERSHOCK] | http://t.co/gR...   \n",
      "\n",
      "                                           clean_text  predict_prob  target  \n",
      "0                           happen terrible car crash      0.740725       1  \n",
      "1   heard earthquake different city stay safe ever...      0.807930       1  \n",
      "2   forest fire spot pond geese flee across street...      0.872195       1  \n",
      "3                   apocalypse light spokane wildfire      0.678465       1  \n",
      "4                  typhoon soudelor kill china taiwan      0.996409       1  \n",
      "5                                    shake earthquake      0.930380       1  \n",
      "6    probably still show life arsenal yesterday eh eh      0.087613       0  \n",
      "7                                                 hey      0.079006       0  \n",
      "8                                            nice hat      0.008231       0  \n",
      "9                                                fuck      0.021292       0  \n",
      "10                                          like cold      0.142396       0  \n",
      "11                                         nooooooooo      0.188709       0  \n",
      "12                                               tell      0.102453       0  \n",
      "13                                                         0.188709       0  \n",
      "14                                            awesome      0.029718       0  \n",
      "15  birmingham wholesale market ablaze bbc news fi...      0.646908       1  \n",
      "16              sunkxssedharry wear short race ablaze      0.111012       0  \n",
      "17  previouslyondoyintv toke makinwaûªs marriage c...      0.850496       1  \n",
      "18  check http co roi nsmejj http co tj zjin http ...      0.117780       0  \n",
      "19  psa iûªm split personality techie follow ablaz...      0.100267       0  \n",
      "20          beware world ablaze sierra leone amp guap      0.072905       0  \n",
      "21  burn man ablaze turban diva http co hodwosamws...      0.277825       0  \n",
      "22  dis song people take thing run smh eye opener ...      0.108014       0  \n",
      "23  rape victim die set ablaze year old girl die b...      0.947492       1  \n",
      "24                       set ablaze http co vme p xhc      0.667064       1  \n",
      "25  ctvtoronto bin front field house wer set ablaz...      0.624115       1  \n",
      "26  nowplaying alfons ablaze puls radio pulsradio ...      0.040854       0  \n",
      "27  burn rahm let hope city hall build giant woode...      0.193343       0  \n",
      "28  philippaeilhart dhublath hurt eye ablaze insul...      0.033856       0  \n",
      "29  accident clear paturnpike patp eb pa cranberry...      0.803567       1  \n",
      "30  get love burn self damn curl wand swear someon...      0.051104       0  \n",
      "31                         hate badging shit accident      0.846241       1  \n",
      "32  car recorder zeroedgeå dual lens car camera ve...      0.816720       1  \n",
      "33  coincidence curse still unresolved secret past...      0.271785       0  \n",
      "34  traffic southe roadpol east accident near lewe...      0.941154       1  \n",
      "35  sakuma en pretend feel certain way feel become...      0.081116       0  \n",
      "36  legal medical referral service injure call u a...      0.717440       1  \n",
      "37  construction guy work disney store huge gauge ...      0.085071       0  \n",
      "38  robynjilllian wlsdomteeths feel like go accide...      0.265005       0  \n",
      "39  northbound junction j j currently delay min du...      0.874115       1  \n",
      "40  daveoshry soembie say meet accident week would...      0.564478       1  \n",
      "41  accident hit run cold block se vista ter gresh...      0.721224       1  \n",
      "42    calum so happen accident like http co qhmxuljsx      0.586882       1  \n",
      "43  please donate spread word training accident le...      0.683306       1  \n",
      "44  please like share new page indoor trampoline p...      0.018579       0  \n",
      "45  bxckylynch foi roh aftershock la vega procura ...      0.146278       0  \n",
      "46  schoolboy ûò aftershock original mix excision ...      0.158154       0  \n",
      "47  ir icemoon aftershock http co thyzomvwu djicem...      0.043295       0  \n",
      "48  aftershock happen nepal last int l team still ...      0.144406       0  \n",
      "49  ir icemoon aftershock http co grpef yawg djice...      0.031798       0  \n"
     ]
    }
   ],
   "source": [
    "#Testing it on new dataset with the best model\n",
    "df_test=pd.read_csv('input/test.csv')  #reading the data\n",
    "df_test['clean_text'] = df_test['text'].apply(lambda x: finalpreprocess(x)) #preprocess the data\n",
    "X_test=df_test['clean_text'] \n",
    "X_vector=tfidf_vectorizer.transform(X_test) #converting X_test to vector\n",
    "y_predict = lr_tfidf.predict(X_vector)      #use the trained model on X_vector\n",
    "y_prob = lr_tfidf.predict_proba(X_vector)[:,1]\n",
    "df_test['predict_prob']= y_prob\n",
    "df_test['target']= y_predict\n",
    "print(df_test.head(50))\n",
    "final=df_test[['id','target']].reset_index(drop=True)\n",
    "final.to_csv('submission.csv')"
   ]
  }
 ],
 "metadata": {
  "kernelspec": {
   "display_name": "Python 3",
   "language": "python",
   "name": "python3"
  },
  "language_info": {
   "codemirror_mode": {
    "name": "ipython",
    "version": 3
   },
   "file_extension": ".py",
   "mimetype": "text/x-python",
   "name": "python",
   "nbconvert_exporter": "python",
   "pygments_lexer": "ipython3",
   "version": "3.7.4"
  }
 },
 "nbformat": 4,
 "nbformat_minor": 2
}
